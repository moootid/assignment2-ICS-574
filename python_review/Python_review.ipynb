{
 "cells": [
  {
   "cell_type": "markdown",
   "metadata": {
    "slideshow": {
     "slide_type": "slide"
    }
   },
   "source": [
    "## List Comprehensions\n",
    "\n",
    "It is an elegant way to create the lists in Python. To see how useful the list comprehensions is, consider the following example:\n",
    "\n",
    "1. Create a list containing numbers form 1,...,5.\n",
    "2. Create another list of numbers containing square of numbers form 1,...,5.\n",
    "3. Repeat the above two tasks for numbers 1,...,50.\n",
    "4. Create a list, say eSquare, which has only the squares of even numbers form 1,...,50. Create a new list, say PV, which has '+' for even numbers and '-' for odd numbers for numbers from 1,...,50.\n",
    "5. Find the length of eSquare.\n",
    "6. Find the position of 196 in eSquare.\n",
    "7. Check if number 576 is inside eSquare.\n",
    "8. Create two new variable, containing the max and min numbers inside eSquare.\n",
    "9. Swap the values of the above two variables.\n",
    "10. Remove 196 from eSquare."
   ]
  },
  {
   "cell_type": "code",
   "execution_count": 89,
   "metadata": {
    "slideshow": {
     "slide_type": "slide"
    }
   },
   "outputs": [],
   "source": [
    "# 1. Create a list containing numbers form 1,...,5.\n",
    "l=[1,2,3,4,5]"
   ]
  },
  {
   "cell_type": "code",
   "execution_count": 1,
   "metadata": {
    "slideshow": {
     "slide_type": "slide"
    }
   },
   "outputs": [],
   "source": [
    "# 2. Create another list of numbers containing square of numbers form 1,...,5.\n",
    "l=[1,4,9,16,25]"
   ]
  },
  {
   "cell_type": "code",
   "execution_count": 2,
   "metadata": {
    "slideshow": {
     "slide_type": "slide"
    }
   },
   "outputs": [
    {
     "name": "stdout",
     "output_type": "stream",
     "text": [
      "[1, 2, 3, 4, 5, 6, 7, 8, 9, 10, 11, 12, 13, 14, 15, 16, 17, 18, 19, 20, 21, 22, 23, 24, 25, 26, 27, 28, 29, 30, 31, 32, 33, 34, 35, 36, 37, 38, 39, 40, 41, 42, 43, 44, 45, 46, 47, 48, 49, 50]\n",
      "[1, 4, 9, 16, 25, 36, 49, 64, 81, 100, 121, 144, 169, 196, 225, 256, 289, 324, 361, 400, 441, 484, 529, 576, 625, 676, 729, 784, 841, 900, 961, 1024, 1089, 1156, 1225, 1296, 1369, 1444, 1521, 1600, 1681, 1764, 1849, 1936, 2025, 2116, 2209, 2304, 2401, 2500]\n"
     ]
    }
   ],
   "source": [
    "# 3. Repeat the above two tasks for numbers 1,...,50.\n",
    "numbers=list(range(1,51))\n",
    "print(numbers)\n",
    "\n",
    "\n",
    "Square=[x**2 for x in numbers]\n",
    "print(Square)"
   ]
  },
  {
   "cell_type": "code",
   "execution_count": 3,
   "metadata": {
    "slideshow": {
     "slide_type": "slide"
    }
   },
   "outputs": [
    {
     "name": "stdout",
     "output_type": "stream",
     "text": [
      "[4, 16, 36, 64, 100, 144, 196, 256, 324, 400, 484, 576, 676, 784, 900, 1024, 1156, 1296, 1444, 1600, 1764, 1936, 2116, 2304, 2500]\n",
      "['-', '+', '-', '+', '-', '+', '-', '+', '-', '+', '-', '+', '-', '+', '-', '+', '-', '+', '-', '+', '-', '+', '-', '+', '-', '+', '-', '+', '-', '+', '-', '+', '-', '+', '-', '+', '-', '+', '-', '+', '-', '+', '-', '+', '-', '+', '-', '+', '-', '+']\n"
     ]
    }
   ],
   "source": [
    "# 4. Create a list, say eSquare, which has only the squares of even numbers form 1,...,50.\n",
    "eSquare = [x**2 for x in numbers if x % 2 == 0]\n",
    "print(eSquare)\n",
    "\n",
    "\n",
    "# Create a new list, say PV, which has '+' for even numbers and '-' for odd numbers for numbers from 1,...,50.\n",
    "PV = ['+' if x % 2 == 0 else '-' for x in numbers]\n",
    "print(PV)"
   ]
  },
  {
   "cell_type": "code",
   "execution_count": 4,
   "metadata": {
    "slideshow": {
     "slide_type": "slide"
    }
   },
   "outputs": [
    {
     "name": "stdout",
     "output_type": "stream",
     "text": [
      "25\n"
     ]
    }
   ],
   "source": [
    "# 5. Find the length of eSquare.\n",
    "print(len(eSquare))"
   ]
  },
  {
   "cell_type": "code",
   "execution_count": 5,
   "metadata": {
    "slideshow": {
     "slide_type": "slide"
    }
   },
   "outputs": [
    {
     "name": "stdout",
     "output_type": "stream",
     "text": [
      "6\n"
     ]
    }
   ],
   "source": [
    "# 6. Find the position of 196 in eSquare.\n",
    "print(eSquare.index(196))"
   ]
  },
  {
   "cell_type": "code",
   "execution_count": 6,
   "metadata": {
    "slideshow": {
     "slide_type": "slide"
    }
   },
   "outputs": [
    {
     "name": "stdout",
     "output_type": "stream",
     "text": [
      "True\n"
     ]
    }
   ],
   "source": [
    "# 7. Check if number 576 is inside eSquare.\n",
    "print(576 in eSquare)"
   ]
  },
  {
   "cell_type": "code",
   "execution_count": 7,
   "metadata": {
    "slideshow": {
     "slide_type": "slide"
    }
   },
   "outputs": [
    {
     "name": "stdout",
     "output_type": "stream",
     "text": [
      "2500 4\n"
     ]
    }
   ],
   "source": [
    "# 8. Create two new variable, containing the max and min numbers inside eSquare.\n",
    "maxValue, minValue = max(eSquare), min(eSquare)\n",
    "print(maxValue, minValue )"
   ]
  },
  {
   "cell_type": "code",
   "execution_count": 8,
   "metadata": {
    "slideshow": {
     "slide_type": "slide"
    }
   },
   "outputs": [
    {
     "name": "stdout",
     "output_type": "stream",
     "text": [
      "4 2500\n"
     ]
    }
   ],
   "source": [
    "# 9. Swap the values of the above two variables.\n",
    "maxValue, minValue = minValue, maxValue\n",
    "print(maxValue, minValue )"
   ]
  },
  {
   "cell_type": "code",
   "execution_count": 9,
   "metadata": {
    "code_folding": [],
    "slideshow": {
     "slide_type": "slide"
    }
   },
   "outputs": [
    {
     "name": "stdout",
     "output_type": "stream",
     "text": [
      "[4, 16, 36, 64, 100, 144, 256, 324, 400, 484, 576, 676, 784, 900, 1024, 1156, 1296, 1444, 1600, 1764, 1936, 2116, 2304, 2500]\n"
     ]
    }
   ],
   "source": [
    "# 10. Remove 196 from eSquare. \n",
    "eSquare.remove(196)\n",
    "# eSquare.pop(eSquare.index(196))\n",
    "print(eSquare)"
   ]
  },
  {
   "cell_type": "markdown",
   "metadata": {
    "slideshow": {
     "slide_type": "slide"
    }
   },
   "source": [
    "## Enumerate \n",
    "\n",
    "It is useful, when you have a list over which you want to iterate, as well as keep track of index. To see how it works, consider the following:\n",
    "\n",
    "1. Consider the following list:  \n",
    "    ['Apple', 'Banana', 'Orange', 'Watermelon', 'Plum', 'Grapes', 'Kiwi', 'Strawberry', 'Pear']\n",
    "2. Sort the above list in ascending alphabetical order.\n",
    "3. To the sorted list, for each element, prefix the value by its position. \n",
    "     - For example, the final list should look like:  \n",
    "     - ['1.Apple',..., '9.Watermelon']"
   ]
  },
  {
   "cell_type": "code",
   "execution_count": 10,
   "metadata": {
    "slideshow": {
     "slide_type": "slide"
    }
   },
   "outputs": [],
   "source": [
    "# 1. Consider the following list:  \n",
    "fruits = ['Apple', 'Banana', 'Orange', 'Watermelon', 'Plum', 'Grapes', 'Kiwi', 'Strawberry', 'Pear']"
   ]
  },
  {
   "cell_type": "code",
   "execution_count": 11,
   "metadata": {
    "slideshow": {
     "slide_type": "slide"
    }
   },
   "outputs": [
    {
     "name": "stdout",
     "output_type": "stream",
     "text": [
      "sorted:  ['Apple', 'Banana', 'Grapes', 'Kiwi', 'Orange', 'Pear', 'Plum', 'Strawberry', 'Watermelon']\n",
      "sorted:  ['Apple', 'Banana', 'Grapes', 'Kiwi', 'Orange', 'Pear', 'Plum', 'Strawberry', 'Watermelon']\n"
     ]
    }
   ],
   "source": [
    "# 2. Sort the above list in ascending alphabetical order.\n",
    "fruits.sort()\n",
    "print(\"sorted: \", fruits)\n",
    "\n",
    "# or \n",
    "fruits2 = sorted(fruits)\n",
    "print(\"sorted: \", fruits2)\n"
   ]
  },
  {
   "cell_type": "code",
   "execution_count": 12,
   "metadata": {
    "scrolled": true,
    "slideshow": {
     "slide_type": "slide"
    }
   },
   "outputs": [
    {
     "name": "stdout",
     "output_type": "stream",
     "text": [
      "['1.Apple', '2.Banana', '3.Grapes', '4.Kiwi', '5.Orange', '6.Pear', '7.Plum', '8.Strawberry', '9.Watermelon']\n"
     ]
    }
   ],
   "source": [
    "# 3. To the sorted list, for each element, prefix the value by its position. \n",
    "\n",
    "listFruits = [str(i+1)+'.'+v for i,v in enumerate(fruits)]\n",
    "print(listFruits)\n",
    "\n",
    "\n",
    "# i=1\n",
    "# fruits2=[]\n",
    "# for x in fruits:\n",
    "#     fruits2.append(str(i)+'.'+x)\n",
    "#     i+=1\n",
    "# print(fruits2)\n",
    "\n",
    "\n",
    "# fruits2=[]\n",
    "# for x in fruits:\n",
    "#     fruits2.append(str(fruits.index(x)+1)+'.'+x)\n",
    "# print(fruits2)\n",
    "    \n",
    "\n",
    "# fruits2=[]  \n",
    "# for i in range(len(fruits)):\n",
    "#     fruits2.append(str(i)+'.'+fruits[i])\n",
    "\n",
    "# fruits2=[]  \n",
    "# for i,x in enumerate(fruits):\n",
    "#     fruits2.append(str(i+1)+'.'+x)\n",
    "# print(fruits2)"
   ]
  },
  {
   "cell_type": "markdown",
   "metadata": {
    "slideshow": {
     "slide_type": "slide"
    }
   },
   "source": [
    "## Zip\n",
    "\n",
    "It is useful, when you have to join two lists. It creates a zip object, from which a list of tuple can be obtained. Such lists are very handy in looping over two or more lists simultaneously.\n",
    "\n",
    "1. Consider the following list:  \n",
    "    [['Apple', 'Banana', 'Orange'], ['Watermelon', 'Plum', 'Grapes', 'Kiwi'], ['Strawberry', 'Pear', 'Mango']]\n",
    "2. Create a new list containing all the 'fruits'.\n",
    "3. Create a new list, say zipZap, containing tuple of fruits name followed by length of the name.\n",
    "    - For example, the final list should look like: \n",
    "    - [('Apple', 5), ..., ('Watermelon', 10)]\n",
    "4. Iterate over zipZap and print all the elements.\n",
    "5. Iterate over zipZap and print the index and all the corresponding elements."
   ]
  },
  {
   "cell_type": "code",
   "execution_count": 13,
   "metadata": {
    "slideshow": {
     "slide_type": "slide"
    }
   },
   "outputs": [
    {
     "name": "stdout",
     "output_type": "stream",
     "text": [
      "['Apple', 'Banana', 'Orange', 'Watermelon', 'Plum', 'Grapes', 'Kiwi', 'Strawberry', 'Pear', 'Mango']\n"
     ]
    }
   ],
   "source": [
    "# 1. Consider the following list:  \n",
    "#     [['Apple', 'Banana', 'Orange'], ['Watermelon', 'Plum', 'Grapes', 'Kiwi'], ['Strawberry', 'Pear', 'Mango']]\n",
    "# 2. Create a new list containing all the 'fruits'.\n",
    "\n",
    "fruits = [['Apple', 'Banana', 'Orange'], ['Watermelon', 'Plum', 'Grapes', 'Kiwi'], ['Strawberry', 'Pear', 'Mango']]\n",
    "\n",
    "allFruits = [y for innerList in fruits for y in innerList]\n",
    "print(allFruits)\n",
    "\n",
    "# ## or the following style\n",
    "# allFruits = []\n",
    "# for innerList in fruits:\n",
    "#     for y in innerList:\n",
    "#         allFruits.append(y)\n",
    "        \n",
    "# print(allFruits)"
   ]
  },
  {
   "cell_type": "code",
   "execution_count": 14,
   "metadata": {
    "slideshow": {
     "slide_type": "slide"
    }
   },
   "outputs": [
    {
     "name": "stdout",
     "output_type": "stream",
     "text": [
      "[5, 6, 6, 10, 4, 6, 4, 10, 4, 5]\n"
     ]
    }
   ],
   "source": [
    "lenFruits = [len(v) for v in allFruits]\n",
    "print(lenFruits)"
   ]
  },
  {
   "cell_type": "code",
   "execution_count": 15,
   "metadata": {
    "slideshow": {
     "slide_type": "slide"
    }
   },
   "outputs": [
    {
     "name": "stdout",
     "output_type": "stream",
     "text": [
      "[('Apple', 5), ('Banana', 6), ('Orange', 6), ('Watermelon', 10), ('Plum', 4), ('Grapes', 6), ('Kiwi', 4), ('Strawberry', 10), ('Pear', 4), ('Mango', 5)]\n"
     ]
    }
   ],
   "source": [
    "# 3. Create a new list, say zipZap, containing tuple of fruits name followed by length of the name.\n",
    "\n",
    "zipZap = list(zip(allFruits,lenFruits))\n",
    "print(zipZap)"
   ]
  },
  {
   "cell_type": "code",
   "execution_count": 16,
   "metadata": {
    "slideshow": {
     "slide_type": "slide"
    }
   },
   "outputs": [
    {
     "name": "stdout",
     "output_type": "stream",
     "text": [
      "Apple 5\n",
      "Banana 6\n",
      "Orange 6\n",
      "Watermelon 10\n",
      "Plum 4\n",
      "Grapes 6\n",
      "Kiwi 4\n",
      "Strawberry 10\n",
      "Pear 4\n",
      "Mango 5\n"
     ]
    }
   ],
   "source": [
    "# 4. Iterate over zipZap and print all the elements.\n",
    "\n",
    "for k in zipZap:\n",
    "    print(k[0],k[1])\n",
    "\n",
    "## Another unpacking approach that gives similar results\n",
    "# for k0,k1 in zipZap:\n",
    "#     print(k0,k1)"
   ]
  },
  {
   "cell_type": "code",
   "execution_count": 17,
   "metadata": {
    "slideshow": {
     "slide_type": "slide"
    }
   },
   "outputs": [
    {
     "name": "stdout",
     "output_type": "stream",
     "text": [
      "0 Apple 5\n",
      "1 Banana 6\n",
      "2 Orange 6\n",
      "3 Watermelon 10\n",
      "4 Plum 4\n",
      "5 Grapes 6\n",
      "6 Kiwi 4\n",
      "7 Strawberry 10\n",
      "8 Pear 4\n",
      "9 Mango 5\n"
     ]
    }
   ],
   "source": [
    "# 5. Iterate over zipZap and print the index and all the corresponding elements.\n",
    "\n",
    "for i,k in enumerate(zipZap):\n",
    "    print(i,k[0],k[1])\n",
    "        \n",
    "## Another unpacking approach that gives similar results\n",
    "# for i,(k0,k1) in enumerate(zipZap):\n",
    "#     print(i,k0,k1)"
   ]
  },
  {
   "cell_type": "markdown",
   "metadata": {
    "slideshow": {
     "slide_type": "slide"
    }
   },
   "source": [
    "## Dictionaries\n",
    "\n",
    "Dictionaries are used to store data values in key:value pairs. For example, consider the following lists:\n",
    "- List of fruits:  \n",
    "['Apple', 'Banana', 'Orange', 'Watermelon', 'Plum', 'Grapes', 'Kiwi', 'Strawberry', 'Pear', 'Mango']\n",
    "- List of corresponding prices per KG:  \n",
    "[47, 27, 35, 13, 28, 10, 30, 56, 15, 25]\n",
    "\n",
    "Do the following:\n",
    "1. Create a dictionary, say book1, which has fruits as keys, and prices as values.\n",
    "2. Loop over all the key & value pairs of book1.\n",
    "3. Create a dictionary, say book2, which has fruits as values, and unique numbers as keys. \n",
    "4. Display book2 and ask the user to pick a number. Then display the price of the fruit using book1."
   ]
  },
  {
   "cell_type": "code",
   "execution_count": 18,
   "metadata": {
    "slideshow": {
     "slide_type": "slide"
    }
   },
   "outputs": [],
   "source": [
    "# given lists\n",
    "fruits=['Apple', 'Banana', 'Orange', 'Watermelon', 'Plum', 'Grapes', 'Kiwi', 'Strawberry', 'Pear', 'Mango']\n",
    "prices=[47, 27, 35, 13, 28, 10, 30, 56, 15, 25]"
   ]
  },
  {
   "cell_type": "code",
   "execution_count": 19,
   "metadata": {
    "slideshow": {
     "slide_type": "slide"
    }
   },
   "outputs": [
    {
     "name": "stdout",
     "output_type": "stream",
     "text": [
      "{'Apple': 47, 'Banana': 27, 'Orange': 35, 'Watermelon': 13, 'Plum': 28, 'Grapes': 10, 'Kiwi': 30, 'Strawberry': 56, 'Pear': 15, 'Mango': 25}\n"
     ]
    }
   ],
   "source": [
    "# 1. Create a dictionary, say book1, which has fruits as keys, and prices as values.\n",
    "\n",
    "book1 = dict(zip(fruits,prices))\n",
    "print(book1)"
   ]
  },
  {
   "cell_type": "code",
   "execution_count": 20,
   "metadata": {
    "slideshow": {
     "slide_type": "slide"
    }
   },
   "outputs": [
    {
     "name": "stdout",
     "output_type": "stream",
     "text": [
      "The price of Apple is 47 SAR.\n",
      "The price of Banana is 27 SAR.\n",
      "The price of Orange is 35 SAR.\n",
      "The price of Watermelon is 13 SAR.\n",
      "The price of Plum is 28 SAR.\n",
      "The price of Grapes is 10 SAR.\n",
      "The price of Kiwi is 30 SAR.\n",
      "The price of Strawberry is 56 SAR.\n",
      "The price of Pear is 15 SAR.\n",
      "The price of Mango is 25 SAR.\n"
     ]
    }
   ],
   "source": [
    "# 2. Loop over all the key & value pairs of book1.\n",
    "\n",
    "for k,v in book1.items():\n",
    "    print(f'The price of {k} is {v} SAR.')"
   ]
  },
  {
   "cell_type": "code",
   "execution_count": 21,
   "metadata": {
    "slideshow": {
     "slide_type": "slide"
    }
   },
   "outputs": [
    {
     "name": "stdout",
     "output_type": "stream",
     "text": [
      "{0: 'Apple', 1: 'Banana', 2: 'Orange', 3: 'Watermelon', 4: 'Plum', 5: 'Grapes', 6: 'Kiwi', 7: 'Strawberry', 8: 'Pear', 9: 'Mango'}\n"
     ]
    }
   ],
   "source": [
    "# 3. Create a dictionary, say book2, which has fruits as values, and unique numbers as keys. \n",
    "\n",
    "book2 = dict(zip(list(range(len(fruits))),fruits))\n",
    "print(book2)"
   ]
  },
  {
   "cell_type": "code",
   "execution_count": 22,
   "metadata": {
    "slideshow": {
     "slide_type": "slide"
    }
   },
   "outputs": [
    {
     "name": "stdout",
     "output_type": "stream",
     "text": [
      "0. Apple\n",
      "1. Banana\n",
      "2. Orange\n",
      "3. Watermelon\n",
      "4. Plum\n",
      "5. Grapes\n",
      "6. Kiwi\n",
      "7. Strawberry\n",
      "8. Pear\n",
      "9. Mango\n",
      "\n",
      "\n",
      "\n",
      "\n",
      "\n",
      "**********************************\n",
      "*You have selected Apple.        *\n",
      "*The price per KG of Apple is 47.*\n",
      "**********************************\n"
     ]
    }
   ],
   "source": [
    "# 4. Display book2 and ask the user to pick a number. Then display the price of the fruit using book1.\n",
    "for k,v in book2.items():\n",
    "    print(f'{k}. {v}')\n",
    "itemSelected = input('Enter the number corresponding to a fruit to know its price.')\n",
    "itemSelected  = int(itemSelected)\n",
    "\n",
    "# priceSelected = book1[book2[itemSelected]]  # compact and better approach\n",
    "\n",
    "fruitSelected = book2[itemSelected]\n",
    "priceSelected = book1[fruitSelected]\n",
    "\n",
    "width = len(f'*The price per KG of {fruitSelected} is {priceSelected}.*')\n",
    "\n",
    "print('\\n'*4)\n",
    "print('*'*width)\n",
    "print(f'{f\"*You have selected {fruitSelected}.\":<{width-1}}*')  #f strings can be nested\n",
    "print(f'*The price per KG of {fruitSelected} is {priceSelected}.*')\n",
    "print('*'*width)\n",
    "\n",
    "\n",
    "####\n",
    "# f'{string: <{width}}' is used for formatting (align, width) while printing strings\n",
    "#to align the string to the right use >, and to the left use <\n",
    "#example: f'{s:>5}' implies right align string with space of 5 chars"
   ]
  },
  {
   "cell_type": "markdown",
   "metadata": {
    "slideshow": {
     "slide_type": "slide"
    }
   },
   "source": [
    "Things to remember about keys:\n",
    "- Duplicate keys are not allowed. That is, a given key can appear in a dictionary only once.\n",
    "- Dictionary keys can be of any type, but they must be immutable.\n",
    "- Re-assigning a new value to an existing key, will override the first/previous value."
   ]
  },
  {
   "cell_type": "markdown",
   "metadata": {
    "slideshow": {
     "slide_type": "slide"
    }
   },
   "source": [
    "## String Methods\n",
    "\n",
    "Out of the box, Python has inbuilt functions that are very handy in text processing. For example, consider the following text:\n",
    "\n",
    "*we are reviewing python programming topics in ise 291.\n",
    "it is the most popular language for data scientists.\n",
    "also, it is a good general purpose programming language.*\n",
    "\n",
    "Do the following:\n",
    "1. Breakdown the given text into list of sentences.\n",
    "2. Capitalize the first word in each sentence.\n",
    "3. Replace 'ise' with 'ISE\" everywhere.\n",
    "4. Join all the above sentences into a new text.\n",
    "5. Print the new text."
   ]
  },
  {
   "cell_type": "code",
   "execution_count": 23,
   "metadata": {
    "slideshow": {
     "slide_type": "slide"
    }
   },
   "outputs": [],
   "source": [
    "text = \"\"\"we are reviewing python programming topics in ics 574.\n",
    "it is the most popular language for data scientists.\n",
    "also, it is a good general purpose programming language.\"\"\"\n"
   ]
  },
  {
   "cell_type": "code",
   "execution_count": 24,
   "metadata": {
    "slideshow": {
     "slide_type": "slide"
    }
   },
   "outputs": [
    {
     "name": "stdout",
     "output_type": "stream",
     "text": [
      "['we are reviewing python programming topics in ics 574', '\\nit is the most popular language for data scientists', '\\nalso, it is a good general purpose programming language']\n"
     ]
    }
   ],
   "source": [
    "sentences = text.split('.')\n",
    "sentences.pop(-1)   # to get rid to empty last element\n",
    "print(sentences)"
   ]
  },
  {
   "cell_type": "code",
   "execution_count": 25,
   "metadata": {
    "slideshow": {
     "slide_type": "slide"
    }
   },
   "outputs": [
    {
     "name": "stdout",
     "output_type": "stream",
     "text": [
      "['We are reviewing python programming topICS in ICS 574.', 'It is the most popular language for data scientists.', 'Also, it is a good general purpose programming language.']\n"
     ]
    }
   ],
   "source": [
    "sentences1=[s.strip().capitalize().replace('ics','ICS')+'.'  \n",
    "           for s in sentences]    \n",
    "print(sentences1)\n",
    "\n",
    "## other variations\n",
    "# sentences2=[]\n",
    "# for s in sentences:\n",
    "#     sentences2.append(s.strip().capitalize().replace('ise','ISE')+'.')\n",
    "# print(sentences2)\n",
    "\n",
    "\n",
    "## or \n",
    "# sentences3=[]\n",
    "# for s in sentences:\n",
    "#     temp=s.strip()\n",
    "#     temp=temp.capitalize()\n",
    "#     temp=temp.replace('ise','ISE')\n",
    "#     temp=temp+'.'\n",
    "#     sentences3.append(temp)\n",
    "# print(sentences3)"
   ]
  },
  {
   "cell_type": "code",
   "execution_count": 26,
   "metadata": {
    "slideshow": {
     "slide_type": "slide"
    }
   },
   "outputs": [
    {
     "name": "stdout",
     "output_type": "stream",
     "text": [
      "We are reviewing python programming topICS in ICS 574.\n",
      "It is the most popular language for data scientists.\n",
      "Also, it is a good general purpose programming language.\n"
     ]
    }
   ],
   "source": [
    "newText=\"\\n\".join(sentences1)\n",
    "print(newText)"
   ]
  },
  {
   "cell_type": "markdown",
   "metadata": {
    "slideshow": {
     "slide_type": "slide"
    }
   },
   "source": [
    "# Lambda & Map\n",
    "> 📌 Beyond basic python\n",
    "\n",
    "\n",
    "The map and lambda functions extends the ability of Python to perform complex operations using a compact & simple style. \n",
    "1. Python's **lambda()** function is a small **anonymous function**, which can take any number of arguments, but can only have one expression.\n",
    "2. Python's **map()** function apply one function to each element of an **iterable** like list, tuple in Python. \n",
    "\n",
    "\n",
    "Consider the following examples:"
   ]
  },
  {
   "cell_type": "code",
   "execution_count": 27,
   "metadata": {
    "slideshow": {
     "slide_type": "slide"
    }
   },
   "outputs": [
    {
     "name": "stdout",
     "output_type": "stream",
     "text": [
      "4\n"
     ]
    }
   ],
   "source": [
    "# Lambda function with one argument\n",
    "\n",
    "print((lambda x : x**2)(2)) "
   ]
  },
  {
   "cell_type": "code",
   "execution_count": 28,
   "metadata": {
    "slideshow": {
     "slide_type": "slide"
    }
   },
   "outputs": [
    {
     "name": "stdout",
     "output_type": "stream",
     "text": [
      "17\n"
     ]
    }
   ],
   "source": [
    "# Lambda function with multiple argument\n",
    "print((lambda x, y, z : x + y * z)(5, 6, 2)) "
   ]
  },
  {
   "cell_type": "code",
   "execution_count": 29,
   "metadata": {},
   "outputs": [
    {
     "name": "stdout",
     "output_type": "stream",
     "text": [
      "7 is an odd number.\n"
     ]
    }
   ],
   "source": [
    "# Lambda function with conditional statement\n",
    "# check even or odd \n",
    "print((lambda x : f\"{x} is an even number.\" if x%2==0 else f\"{x} is an odd number.\")(7)) "
   ]
  },
  {
   "cell_type": "code",
   "execution_count": 30,
   "metadata": {
    "slideshow": {
     "slide_type": "slide"
    }
   },
   "outputs": [
    {
     "name": "stdout",
     "output_type": "stream",
     "text": [
      "[1, 4, 9, 16, 25]\n"
     ]
    }
   ],
   "source": [
    "# Map function \n",
    "def squareFunction(x):\n",
    "    return x**2\n",
    "\n",
    "numbers = [1, 2, 3, 4, 5]\n",
    "\n",
    "squares = list(map(squareFunction, numbers))\n",
    "\n",
    "print(squares)"
   ]
  },
  {
   "cell_type": "code",
   "execution_count": 31,
   "metadata": {
    "slideshow": {
     "slide_type": "slide"
    }
   },
   "outputs": [
    {
     "name": "stdout",
     "output_type": "stream",
     "text": [
      "[1, 4, 9, 16, 25]\n"
     ]
    }
   ],
   "source": [
    "# Lambda & Map functions with single lists\n",
    "numbers = [1, 2, 3, 4, 5]\n",
    "\n",
    "squares = list(map((lambda x:x**2), numbers))\n",
    "\n",
    "print(squares)"
   ]
  },
  {
   "cell_type": "code",
   "execution_count": 32,
   "metadata": {
    "slideshow": {
     "slide_type": "slide"
    }
   },
   "outputs": [
    {
     "name": "stdout",
     "output_type": "stream",
     "text": [
      "[-4, -3, 0, -1, 0]\n",
      "[4, 3, 0, 1, 0]\n"
     ]
    }
   ],
   "source": [
    "# Lambda & Map functions with multiple lists\n",
    "\n",
    "list1 = [1, 2, 3, 4, 5]\n",
    "list2 = [5, 5, 3, 5, 5]\n",
    "\n",
    "listSub = list(map((lambda x,y:x-y), list1,list2))\n",
    "print(listSub)\n",
    "\n",
    "\n",
    "listSub = list(map((lambda x,y:x-y), list2,list1))\n",
    "print(listSub)"
   ]
  },
  {
   "cell_type": "code",
   "execution_count": 33,
   "metadata": {
    "slideshow": {
     "slide_type": "slide"
    }
   },
   "outputs": [
    {
     "name": "stdout",
     "output_type": "stream",
     "text": [
      "[0, None, 4, None, 16, None, 36, None, 64, None, 100]\n",
      "[0, 4, 16, 36, 64, 100]\n"
     ]
    }
   ],
   "source": [
    "# Lambda & Map functions with conditions\n",
    "numbers = list(range(11))\n",
    "\n",
    "squares1 = list(map((lambda x:x**2 if x%2==0 else None), numbers))\n",
    "print(squares1)\n",
    "\n",
    "\n",
    "squares2 = list(map((lambda x:x**2), [x for x in numbers if x%2==0]))\n",
    "print(squares2)\n"
   ]
  },
  {
   "cell_type": "markdown",
   "metadata": {
    "slideshow": {
     "slide_type": "slide"
    }
   },
   "source": [
    "# Numpy Library\n",
    "> 📌 A must for scientific work"
   ]
  },
  {
   "cell_type": "code",
   "execution_count": 34,
   "metadata": {
    "slideshow": {
     "slide_type": "slide"
    }
   },
   "outputs": [],
   "source": [
    "import numpy as np  #to import the libary       "
   ]
  },
  {
   "cell_type": "code",
   "execution_count": 35,
   "metadata": {
    "slideshow": {
     "slide_type": "slide"
    }
   },
   "outputs": [],
   "source": [
    "# !pip instal numpy"
   ]
  },
  {
   "cell_type": "markdown",
   "metadata": {
    "slideshow": {
     "slide_type": "slide"
    }
   },
   "source": [
    "## Creating Numpy Arrays\n",
    "\n",
    "Do the following tasks:\n",
    "1. Create an integer array of 10 elements filled with all zeros.\n",
    "2. Create a 3x5 floating-point array filled with ones.\n",
    "3. Create a 3x5 array filled with pi values.\n",
    "4. Create a 3x3 array of uniformly distributed random values between 0 and 1.\n",
    "5. Create a 3x3 array of random integers in the interval [0, 10).\n",
    "6. Create a 3x3 identity matrix.\n",
    "7. Create an array of 10 elements uniformly dividing the interval [0,1], i.e, 0, 0.1,..., 0.9, 1."
   ]
  },
  {
   "cell_type": "code",
   "execution_count": 36,
   "metadata": {
    "slideshow": {
     "slide_type": "slide"
    }
   },
   "outputs": [
    {
     "data": {
      "text/plain": [
       "array([0, 0, 0, 0, 0, 0, 0, 0, 0, 0])"
      ]
     },
     "execution_count": 36,
     "metadata": {},
     "output_type": "execute_result"
    }
   ],
   "source": [
    "#1. Create an integer array of 10 elements filled with all zeros.\n",
    "np.zeros(10, dtype=\"int\")  \n",
    "\n",
    "## another way\n",
    "# list1 = [0 for x in range(10)]\n",
    "# print(list1)\n",
    "# print(type(list1))\n",
    "\n",
    "# print('-'*8)\n",
    "# array1 = np.array(list1)\n",
    "# print(array1)\n",
    "# print(type(array1))"
   ]
  },
  {
   "cell_type": "code",
   "execution_count": 37,
   "metadata": {
    "slideshow": {
     "slide_type": "slide"
    }
   },
   "outputs": [
    {
     "data": {
      "text/plain": [
       "array([[1, 1, 1, 1, 1],\n",
       "       [1, 1, 1, 1, 1],\n",
       "       [1, 1, 1, 1, 1]])"
      ]
     },
     "execution_count": 37,
     "metadata": {},
     "output_type": "execute_result"
    }
   ],
   "source": [
    "#2. Create a 3x5 floating-point array filled with ones.\n",
    "np.ones((3,5), dtype=\"int\")\n",
    "\n",
    "# or the default\n",
    "# np.ones((3,5))"
   ]
  },
  {
   "cell_type": "code",
   "execution_count": 38,
   "metadata": {
    "slideshow": {
     "slide_type": "slide"
    }
   },
   "outputs": [
    {
     "name": "stdout",
     "output_type": "stream",
     "text": [
      "[[3.142 3.142 3.142 3.142 3.142]\n",
      " [3.142 3.142 3.142 3.142 3.142]\n",
      " [3.142 3.142 3.142 3.142 3.142]]\n"
     ]
    }
   ],
   "source": [
    "#3. Create a 3x5 array filled with pi values.\n",
    "print(np.full((3,5), np.round(np.pi,3)))\n",
    "\n",
    "## or the following \n",
    "# print(np.full((3,5), np.round(np.pi,3)))  # numpy functions are Universal Functions (ufuncs) more on this in Sec 3.10."
   ]
  },
  {
   "cell_type": "code",
   "execution_count": 39,
   "metadata": {
    "slideshow": {
     "slide_type": "slide"
    }
   },
   "outputs": [
    {
     "name": "stdout",
     "output_type": "stream",
     "text": [
      "[[0.5488135  0.71518937 0.60276338]\n",
      " [0.54488318 0.4236548  0.64589411]\n",
      " [0.43758721 0.891773   0.96366276]]\n"
     ]
    }
   ],
   "source": [
    "#4. Create a 3x3 array of uniformly distributed random values between 0 and 1.\n",
    "np.random.seed(0) # seed for reproducibility\n",
    "print(np.random.random((3,3)))\n",
    "\n",
    "# print(np.random.rand(3,3))\n",
    "\n",
    "# or the following with specific decimal places\n",
    "# np.random.seed(0) # seed for reproducibility\n",
    "# print(np.round(np.random.random((3,3)),2)) # "
   ]
  },
  {
   "cell_type": "code",
   "execution_count": 40,
   "metadata": {
    "slideshow": {
     "slide_type": "slide"
    }
   },
   "outputs": [
    {
     "data": {
      "text/plain": [
       "array([[1, 6, 7],\n",
       "       [7, 8, 1],\n",
       "       [5, 9, 8]])"
      ]
     },
     "execution_count": 40,
     "metadata": {},
     "output_type": "execute_result"
    }
   ],
   "source": [
    "#5. Create a 3x3 array of random integers in the interval [0, 10).\n",
    "np.random.randint(0,10,(3,3))"
   ]
  },
  {
   "cell_type": "code",
   "execution_count": 41,
   "metadata": {
    "scrolled": true,
    "slideshow": {
     "slide_type": "slide"
    }
   },
   "outputs": [
    {
     "data": {
      "text/plain": [
       "array([[1., 0., 0.],\n",
       "       [0., 1., 0.],\n",
       "       [0., 0., 1.]])"
      ]
     },
     "execution_count": 41,
     "metadata": {},
     "output_type": "execute_result"
    }
   ],
   "source": [
    "#6. Create a 3x3 identity matrix.\n",
    "np.eye(3)   # default data type is float"
   ]
  },
  {
   "cell_type": "code",
   "execution_count": 42,
   "metadata": {
    "slideshow": {
     "slide_type": "slide"
    }
   },
   "outputs": [
    {
     "data": {
      "text/plain": [
       "array([0. , 0.1, 0.2, 0.3, 0.4, 0.5, 0.6, 0.7, 0.8, 0.9, 1. ])"
      ]
     },
     "execution_count": 42,
     "metadata": {},
     "output_type": "execute_result"
    }
   ],
   "source": [
    "# 7. Create an array of 11 elements uniformly dividing the interval [0,1], i.e, 0. , 0.1,..., 0.9, 1.\n",
    "np.linspace(0,1,11)"
   ]
  },
  {
   "cell_type": "markdown",
   "metadata": {
    "slideshow": {
     "slide_type": "slide"
    }
   },
   "source": [
    "## Numpy Array Attributes\n",
    "\n",
    "\n",
    "Numpy array have the following attributes:\n",
    "1. ndim (the number of dimensions), \n",
    "2. shape (the size of each dimension), and \n",
    "3. size (the total size of the array).\n",
    "\n",
    "\n",
    "For example, do the following:\n",
    "1. Create a random one-dimensional array (x1), and check all the above attributes.\n",
    "2. Create a random two-dimensional array (x2), and check all the above attributes. "
   ]
  },
  {
   "cell_type": "code",
   "execution_count": 43,
   "metadata": {
    "slideshow": {
     "slide_type": "slide"
    }
   },
   "outputs": [
    {
     "name": "stdout",
     "output_type": "stream",
     "text": [
      "[5 0 3 3 7 9]\n",
      "x1 ndim: 1\n",
      "x1 shape: (6,)\n",
      "x1 size: 6\n"
     ]
    }
   ],
   "source": [
    "# 1. Create a random one-dimensional array (x1), and check all the above attributes\n",
    "np.random.seed(0) # seed for reproducibility\n",
    "x1 = np.random.randint(10,size=6) #it's same ((np.random.randint((0,10), size=6))) # One-dimensional array\n",
    "print(x1)\n",
    "print(f\"x1 ndim: {x1.ndim}\")\n",
    "print(f\"x1 shape: {x1.shape}\")\n",
    "print(f\"x1 size: {x1.size}\") #totaly,6 elements"
   ]
  },
  {
   "cell_type": "code",
   "execution_count": 44,
   "metadata": {
    "slideshow": {
     "slide_type": "slide"
    }
   },
   "outputs": [
    {
     "name": "stdout",
     "output_type": "stream",
     "text": [
      "[[5 0 3 3]\n",
      " [7 9 3 5]\n",
      " [2 4 7 6]]\n",
      "x2 ndim: 2\n",
      "x2 shape: (3, 4)\n",
      "x2 size: 12\n"
     ]
    }
   ],
   "source": [
    "# 2. Create a random two-dimensional array (x2), and check all the above attributes. \n",
    "np.random.seed(0) # seed for reproducibility\n",
    "x2 = np.random.randint(10,size=(3,4)) # Two-dimensional array\n",
    "print(x2)\n",
    "print(f\"x2 ndim: {x2.ndim}\")\n",
    "print(f\"x2 shape: {x2.shape}\")\n",
    "print(f\"x2 size: {x2.size}\") #totaly,12 elements"
   ]
  },
  {
   "cell_type": "markdown",
   "metadata": {
    "slideshow": {
     "slide_type": "slide"
    }
   },
   "source": [
    "## Indexing\n",
    "\n",
    "Numpy array indexing for 1d array is same as Python's lists. However, Numpy nd-array indexing is slightly different from Python's nd-lists. For example:\n",
    "1. 2d-list elements are accessed as:[index1][index2]\n",
    "2. 2d-array elements are accessed as:[index1,index2]\n",
    "\n",
    "where index1 and index2 can be indices or slices. See the following examples:"
   ]
  },
  {
   "cell_type": "code",
   "execution_count": 45,
   "metadata": {
    "slideshow": {
     "slide_type": "slide"
    }
   },
   "outputs": [
    {
     "name": "stdout",
     "output_type": "stream",
     "text": [
      "[5 0 3 3 7 9]\n",
      "indices:[0, 1, 2, 3, 4, 5]\n",
      "array  :[5, 0, 3, 3, 7, 9]\n",
      "----------\n",
      "5 7 9 7\n"
     ]
    }
   ],
   "source": [
    "np.random.seed(0) # seed for reproducibility\n",
    "x1 = np.random.randint(10, size=6) # One-dimensional array\n",
    "print(x1)\n",
    "print(f'indices:{list(range(6))}')\n",
    "print(f'array  :{x1.tolist()}')   #.tolist() converts numpy array into python's list. The conversion is not permanant. \n",
    "\n",
    "print('-'*10);\n",
    "print(x1[0],x1[4],x1[-1],x1[-2])\n"
   ]
  },
  {
   "cell_type": "code",
   "execution_count": 46,
   "metadata": {
    "slideshow": {
     "slide_type": "slide"
    }
   },
   "outputs": [
    {
     "name": "stdout",
     "output_type": "stream",
     "text": [
      "[[5 0 3 3]\n",
      " [7 9 3 5]\n",
      " [2 4 7 6]]\n",
      "----------\n",
      "4 2 2 9\n"
     ]
    }
   ],
   "source": [
    "np.random.seed(0) # seed for reproducibility\n",
    "x2 = np.random.randint(10, size=(3,4)) # Two-dimensional array\n",
    "\n",
    "print(x2)\n",
    "\n",
    "print('-'*10);\n",
    "\n",
    "\n",
    "print(x2[2,1],x2[2,0],x2[2,-4],x2[-2,-3])"
   ]
  },
  {
   "cell_type": "code",
   "execution_count": 47,
   "metadata": {
    "slideshow": {
     "slide_type": "slide"
    }
   },
   "outputs": [
    {
     "name": "stdout",
     "output_type": "stream",
     "text": [
      "[3 0 3 3 7 9]\n"
     ]
    }
   ],
   "source": [
    "# Updating values\n",
    "x1[0] = 3.14159 # this will be truncated!\n",
    "print(x1)"
   ]
  },
  {
   "cell_type": "code",
   "execution_count": 48,
   "metadata": {
    "slideshow": {
     "slide_type": "slide"
    }
   },
   "outputs": [
    {
     "name": "stdout",
     "output_type": "stream",
     "text": [
      "[[12  0  3  3]\n",
      " [ 7  9  3  5]\n",
      " [ 2  4  7  6]]\n"
     ]
    }
   ],
   "source": [
    "# Updating values\n",
    "x2[0,0]=12\n",
    "print(x2)"
   ]
  },
  {
   "cell_type": "markdown",
   "metadata": {
    "slideshow": {
     "slide_type": "slide"
    }
   },
   "source": [
    "## Slicing\n",
    "\n",
    "Slicing refer to selecting/extracting a sub-array from a given array. As an example for 1d arrays, do the following tasks:\n",
    "1. Create a random 1d numpy array of size 10.\n",
    "2. Display the first five elements.\n",
    "3. Display elements from index 5 to end.\n",
    "4. Display elements from index 4 to 6.\n",
    "5. Display alternate elements from the first element.\n",
    "6. Display alternate elements starting from the second element.\n",
    "7. Display elements starting from fourth element from the end and ending at last but one element.\n",
    "8. Display all element in the reverse order of indices."
   ]
  },
  {
   "cell_type": "code",
   "execution_count": 49,
   "metadata": {
    "slideshow": {
     "slide_type": "slide"
    }
   },
   "outputs": [
    {
     "name": "stdout",
     "output_type": "stream",
     "text": [
      "indices:[0, 1, 2, 3, 4, 5, 6, 7, 8, 9]\n",
      "array  :[5, 0, 3, 3, 7, 9, 3, 5, 2, 4]\n"
     ]
    }
   ],
   "source": [
    "# 1. Create a random 1d numpy array of size 10.\n",
    "np.random.seed(0) # seed for reproducibility\n",
    "x1 = np.random.randint(10,size=10) # One-dimensional array\n",
    "print(f'indices:{list(range(10))}')\n",
    "print(f'array  :{x1.tolist()}')"
   ]
  },
  {
   "cell_type": "code",
   "execution_count": 50,
   "metadata": {
    "slideshow": {
     "slide_type": "slide"
    }
   },
   "outputs": [
    {
     "data": {
      "text/plain": [
       "array([5, 0, 3, 3, 7])"
      ]
     },
     "execution_count": 50,
     "metadata": {},
     "output_type": "execute_result"
    }
   ],
   "source": [
    "# 2. Display the first five elements.\n",
    "x1[0:5] "
   ]
  },
  {
   "cell_type": "code",
   "execution_count": 51,
   "metadata": {
    "slideshow": {
     "slide_type": "slide"
    }
   },
   "outputs": [
    {
     "data": {
      "text/plain": [
       "array([9, 3, 5, 2, 4])"
      ]
     },
     "execution_count": 51,
     "metadata": {},
     "output_type": "execute_result"
    }
   ],
   "source": [
    "# 3. Display elements from index 5 to end.\n",
    "x1[5:] "
   ]
  },
  {
   "cell_type": "code",
   "execution_count": 52,
   "metadata": {
    "slideshow": {
     "slide_type": "slide"
    }
   },
   "outputs": [
    {
     "data": {
      "text/plain": [
       "array([7, 9, 3])"
      ]
     },
     "execution_count": 52,
     "metadata": {},
     "output_type": "execute_result"
    }
   ],
   "source": [
    "# 4. Display elements from index 4 to 6.\n",
    "x1[4:7]"
   ]
  },
  {
   "cell_type": "code",
   "execution_count": 53,
   "metadata": {
    "slideshow": {
     "slide_type": "slide"
    }
   },
   "outputs": [
    {
     "data": {
      "text/plain": [
       "array([5, 3, 7, 3, 2])"
      ]
     },
     "execution_count": 53,
     "metadata": {},
     "output_type": "execute_result"
    }
   ],
   "source": [
    "# 5. Display alternate elements starting from the first element.\n",
    "x1[::2] "
   ]
  },
  {
   "cell_type": "code",
   "execution_count": 54,
   "metadata": {
    "slideshow": {
     "slide_type": "slide"
    }
   },
   "outputs": [
    {
     "data": {
      "text/plain": [
       "array([0, 3, 9, 5, 4])"
      ]
     },
     "execution_count": 54,
     "metadata": {},
     "output_type": "execute_result"
    }
   ],
   "source": [
    "# 6. Display alternate elements starting from the second element.\n",
    "x1[1::2] "
   ]
  },
  {
   "cell_type": "code",
   "execution_count": 55,
   "metadata": {
    "slideshow": {
     "slide_type": "slide"
    }
   },
   "outputs": [
    {
     "data": {
      "text/plain": [
       "array([3, 5, 2])"
      ]
     },
     "execution_count": 55,
     "metadata": {},
     "output_type": "execute_result"
    }
   ],
   "source": [
    "# 7. Display elements starting from fourth element from the end and ending at last but one element.\n",
    "x1[-4:-1]"
   ]
  },
  {
   "cell_type": "code",
   "execution_count": 56,
   "metadata": {
    "slideshow": {
     "slide_type": "slide"
    }
   },
   "outputs": [
    {
     "data": {
      "text/plain": [
       "array([4, 2, 5, 3, 9, 7, 3, 3, 0, 5])"
      ]
     },
     "execution_count": 56,
     "metadata": {},
     "output_type": "execute_result"
    }
   ],
   "source": [
    "# 8. Display all element in the reverse order of indices.\n",
    "x1[::-1]"
   ]
  },
  {
   "cell_type": "markdown",
   "metadata": {
    "slideshow": {
     "slide_type": "slide"
    }
   },
   "source": [
    " As an example for 2d arrays, do the following tasks:\n",
    "1. Create a random 2d numpy array of size 3x4.\n",
    "2. Display first two rows, first three columns\n",
    "3. Display all rows, and every other column\n",
    "4. Display all rows and columns in the reverse order\n",
    "5. Display first column \n",
    "6. Display first row \n",
    "7. Display third row elements in order of column 3, then column 1 then column 2\n",
    "8. Display second and following row elements in order of column 3, then column 1 then column 2\n"
   ]
  },
  {
   "cell_type": "code",
   "execution_count": 57,
   "metadata": {
    "slideshow": {
     "slide_type": "slide"
    }
   },
   "outputs": [
    {
     "name": "stdout",
     "output_type": "stream",
     "text": [
      "[[5 0 3 3]\n",
      " [7 9 3 5]\n",
      " [2 4 7 6]]\n"
     ]
    }
   ],
   "source": [
    "# 1. Create a random 2d numpy array of size 3x4.\n",
    "np.random.seed(0) # seed for reproducibility\n",
    "x2 = np.random.randint(10, size=(3,4)) # Two-dimensional array\n",
    "print(x2)"
   ]
  },
  {
   "cell_type": "code",
   "execution_count": 58,
   "metadata": {
    "slideshow": {
     "slide_type": "slide"
    }
   },
   "outputs": [
    {
     "data": {
      "text/plain": [
       "array([[5, 0, 3],\n",
       "       [7, 9, 3]])"
      ]
     },
     "execution_count": 58,
     "metadata": {},
     "output_type": "execute_result"
    }
   ],
   "source": [
    "# 2. Display first two rows, first three columns\n",
    "x2[:2, :3]"
   ]
  },
  {
   "cell_type": "code",
   "execution_count": 59,
   "metadata": {
    "slideshow": {
     "slide_type": "slide"
    }
   },
   "outputs": [
    {
     "data": {
      "text/plain": [
       "array([[5, 3],\n",
       "       [7, 3],\n",
       "       [2, 7]])"
      ]
     },
     "execution_count": 59,
     "metadata": {},
     "output_type": "execute_result"
    }
   ],
   "source": [
    "# 3. Display all rows, and every other column\n",
    "x2[:3,::2]"
   ]
  },
  {
   "cell_type": "code",
   "execution_count": 60,
   "metadata": {
    "slideshow": {
     "slide_type": "slide"
    }
   },
   "outputs": [
    {
     "data": {
      "text/plain": [
       "array([[6, 7, 4, 2],\n",
       "       [5, 3, 9, 7],\n",
       "       [3, 3, 0, 5]])"
      ]
     },
     "execution_count": 60,
     "metadata": {},
     "output_type": "execute_result"
    }
   ],
   "source": [
    "# 4. Display all rows and columns in the reverse order\n",
    "x2[::-1,::-1]"
   ]
  },
  {
   "cell_type": "code",
   "execution_count": 61,
   "metadata": {
    "slideshow": {
     "slide_type": "slide"
    }
   },
   "outputs": [
    {
     "name": "stdout",
     "output_type": "stream",
     "text": [
      "[5 7 2]\n"
     ]
    }
   ],
   "source": [
    "# 5. Display first column \n",
    "print(x2[:, 0]) "
   ]
  },
  {
   "cell_type": "code",
   "execution_count": 62,
   "metadata": {
    "slideshow": {
     "slide_type": "slide"
    }
   },
   "outputs": [
    {
     "name": "stdout",
     "output_type": "stream",
     "text": [
      "[5 0 3 3]\n"
     ]
    }
   ],
   "source": [
    "# 6. Display first row \n",
    "print(x2[0,:]) \n",
    "\n",
    "# print(x2[0]) # equivalent to x2[0, :]"
   ]
  },
  {
   "cell_type": "code",
   "execution_count": 63,
   "metadata": {
    "slideshow": {
     "slide_type": "slide"
    }
   },
   "outputs": [
    {
     "data": {
      "text/plain": [
       "array([7, 2, 4])"
      ]
     },
     "execution_count": 63,
     "metadata": {},
     "output_type": "execute_result"
    }
   ],
   "source": [
    "# 7. Display third row elements in order of column 3, then column 1 then column 2\n",
    "x2[2,[2,0,1]]"
   ]
  },
  {
   "cell_type": "code",
   "execution_count": 64,
   "metadata": {
    "slideshow": {
     "slide_type": "slide"
    }
   },
   "outputs": [
    {
     "data": {
      "text/plain": [
       "array([[3, 7, 9],\n",
       "       [7, 2, 4]])"
      ]
     },
     "execution_count": 64,
     "metadata": {},
     "output_type": "execute_result"
    }
   ],
   "source": [
    "# 8. Display second and following row elements in order of column 3, then column 1 then column 2\n",
    "x2[1:, [2, 0, 1]]"
   ]
  },
  {
   "cell_type": "markdown",
   "metadata": {
    "slideshow": {
     "slide_type": "slide"
    }
   },
   "source": [
    "## Sorting\n",
    "Numpy *.sort()* method sorts an array in-place. The sorting is done row/column wise, and order/preference can be provided too. As an example, do the following:\n",
    "1. Create a 1d random array of size 6, and sort it. Print the corresponding original indices in the sorted array.\n",
    "2. Create a random 2d numpy array of size 3x4. Sort row wise.\n",
    "3. Create a random 2d numpy array of size 3x4. Sort column wise."
   ]
  },
  {
   "cell_type": "code",
   "execution_count": 65,
   "metadata": {
    "slideshow": {
     "slide_type": "slide"
    }
   },
   "outputs": [
    {
     "name": "stdout",
     "output_type": "stream",
     "text": [
      "original indices:[0, 1, 2, 3, 4, 5]\n",
      "given    array  :[5, 0, 3, 3, 7, 9]\n",
      "sorted-array    :[0, 3, 3, 5, 7, 9]\n",
      "sorted indices  :[1, 2, 3, 0, 4, 5]\n",
      "sorted-array    :[9, 7, 5, 3, 3, 0]\n"
     ]
    }
   ],
   "source": [
    "# 1. Create a 1d random array of size 6, and sort it. Print the corresponding original indices in the sorted array.\n",
    "np.random.seed(0) # seed for reproducibility\n",
    "x1 = np.random.randint(10,size=6) # One-dimensional array\n",
    "\n",
    "print(f'original indices:{list(range(6))}')\n",
    "print(f'given    array  :{x1.tolist()}')\n",
    "print(f'sorted-array    :{np.sort(x1).tolist()}') # Ascending\n",
    "print(f'sorted indices  :{np.argsort(x1).tolist()}')\n",
    "print(f'sorted-array    :{np.sort(x1)[::-1].tolist()}') #Descending"
   ]
  },
  {
   "cell_type": "code",
   "execution_count": 66,
   "metadata": {
    "slideshow": {
     "slide_type": "slide"
    }
   },
   "outputs": [
    {
     "name": "stdout",
     "output_type": "stream",
     "text": [
      "[[5 0 3 3]\n",
      " [7 9 3 5]\n",
      " [2 4 7 6]]\n",
      "----------\n",
      "[[2 0 3 3]\n",
      " [5 4 3 5]\n",
      " [7 9 7 6]]\n"
     ]
    }
   ],
   "source": [
    "# 2. Create a random 2d numpy array of size 3x4. Sort row wise.\n",
    "np.random.seed(0) # seed for reproducibility\n",
    "x2 = np.random.randint(10, size=(3,4)) # Two-dimensional array\n",
    "print(x2)\n",
    "print('-'*10)\n",
    "x2.sort(axis=0)\n",
    "print(x2)"
   ]
  },
  {
   "cell_type": "code",
   "execution_count": 67,
   "metadata": {
    "slideshow": {
     "slide_type": "slide"
    }
   },
   "outputs": [
    {
     "name": "stdout",
     "output_type": "stream",
     "text": [
      "[[5 0 3 3]\n",
      " [7 9 3 5]\n",
      " [2 4 7 6]]\n",
      "----------\n",
      "[[0 3 3 5]\n",
      " [3 5 7 9]\n",
      " [2 4 6 7]]\n"
     ]
    }
   ],
   "source": [
    "#3. Create a random 2d numpy array of size 3x4. Sort column wise.\n",
    "np.random.seed(0) # seed for reproducibility\n",
    "x2 = np.random.randint(10, size=(3,4)) # Two-dimensional array\n",
    "print(x2)\n",
    "print('-'*10)\n",
    "x2.sort(axis=1)\n",
    "print(x2)"
   ]
  },
  {
   "cell_type": "markdown",
   "metadata": {
    "slideshow": {
     "slide_type": "slide"
    }
   },
   "source": [
    "## Copy of Array\n",
    "\n",
    "Arrays are mutable too. Thus, the assignment \"=\" is by reference. Use \".copy()\" to copy the entire numpy array. For example, see the code in the following cells:"
   ]
  },
  {
   "cell_type": "code",
   "execution_count": 68,
   "metadata": {
    "scrolled": true,
    "slideshow": {
     "slide_type": "slide"
    }
   },
   "outputs": [
    {
     "name": "stdout",
     "output_type": "stream",
     "text": [
      "x2 is:\n",
      "[[5 0 3 3]\n",
      " [7 9 3 5]]\n",
      "----------\n",
      "x2_copy is:\n",
      "[[5 0 3 3]\n",
      " [7 9 3 5]]\n",
      "----------\n",
      "x2_copy modified is:\n",
      "[[5 4 4 3]\n",
      " [7 9 3 5]]\n",
      "----------\n",
      "x2 is:\n",
      "[[5 4 4 3]\n",
      " [7 9 3 5]]\n"
     ]
    }
   ],
   "source": [
    "np.random.seed(0) # seed for reproducibility\n",
    "x2 = np.random.randint(10, size=(2,4)) # Two-dimensional array\n",
    "print(f'x2 is:\\n{x2}')\n",
    "print('-'*10)\n",
    "\n",
    "x2_copy = x2  # new reference not actual copy\n",
    "print(f'x2_copy is:\\n{x2_copy}')\n",
    "print('-'*10)\n",
    "\n",
    "x2_copy[0,1:3]=[4,4]\n",
    "print(f'x2_copy modified is:\\n{x2_copy}')\n",
    "print('-'*10)\n",
    "\n",
    "print(f'x2 is:\\n{x2}')\n",
    "## x2_copy = x2[:,:]"
   ]
  },
  {
   "cell_type": "code",
   "execution_count": 69,
   "metadata": {
    "slideshow": {
     "slide_type": "slide"
    }
   },
   "outputs": [
    {
     "name": "stdout",
     "output_type": "stream",
     "text": [
      "x2 is:\n",
      "[[5 0 3 3]\n",
      " [7 9 3 5]]\n",
      "----------\n",
      "x2_copy is:\n",
      "[[5 0 3 3]\n",
      " [7 9 3 5]]\n",
      "----------\n",
      "x2_copy modified is:\n",
      "[[5 4 4 3]\n",
      " [7 9 3 5]]\n",
      "----------\n",
      "x2 is:\n",
      "[[5 0 3 3]\n",
      " [7 9 3 5]]\n"
     ]
    }
   ],
   "source": [
    "np.random.seed(0) # seed for reproducibility\n",
    "x2 = np.random.randint(10, size=(2,4)) # Two-dimensional array\n",
    "print(f'x2 is:\\n{x2}')\n",
    "print('-'*10)\n",
    "\n",
    "x2_copy = x2.copy()  # it will be true copy\n",
    "print(f'x2_copy is:\\n{x2_copy}')\n",
    "print('-'*10)\n",
    "\n",
    "x2_copy[0,1:3]=[4,4]\n",
    "print(f'x2_copy modified is:\\n{x2_copy}')\n",
    "print('-'*10)\n",
    "\n",
    "print(f'x2 is:\\n{x2}')"
   ]
  },
  {
   "cell_type": "markdown",
   "metadata": {
    "slideshow": {
     "slide_type": "slide"
    }
   },
   "source": [
    "## Reshaping\n",
    "\n",
    "Numpy *.reshape* method gives a new shape to an existing array without changing its data. As an exmaple, do the following task:\n",
    "1. Create a 1d random array of size 10.\n",
    "2. Reshape the 1d array into size 5x2.\n",
    "3. Reshape the 1d array into size 2x5."
   ]
  },
  {
   "cell_type": "code",
   "execution_count": 70,
   "metadata": {
    "slideshow": {
     "slide_type": "slide"
    }
   },
   "outputs": [
    {
     "name": "stdout",
     "output_type": "stream",
     "text": [
      "[5 0 3 3 7 9 3 5 2 4]\n"
     ]
    }
   ],
   "source": [
    "# 1. Create a 1d random array of size 10.\n",
    "np.random.seed(0) # seed for reproducibility\n",
    "x1 = np.random.randint(10,size=10) # One-dimensional array\n",
    "print(x1)"
   ]
  },
  {
   "cell_type": "code",
   "execution_count": 71,
   "metadata": {
    "slideshow": {
     "slide_type": "slide"
    }
   },
   "outputs": [
    {
     "name": "stdout",
     "output_type": "stream",
     "text": [
      "[[5 0]\n",
      " [3 3]\n",
      " [7 9]\n",
      " [3 5]\n",
      " [2 4]]\n"
     ]
    }
   ],
   "source": [
    "# 2. Reshape the 1d array into size 5x2.\n",
    "print(x1.reshape(5,2))"
   ]
  },
  {
   "cell_type": "code",
   "execution_count": 72,
   "metadata": {
    "slideshow": {
     "slide_type": "slide"
    }
   },
   "outputs": [
    {
     "name": "stdout",
     "output_type": "stream",
     "text": [
      "[[5 0]\n",
      " [3 3]\n",
      " [7 9]\n",
      " [3 5]\n",
      " [2 4]]\n"
     ]
    }
   ],
   "source": [
    "# 3. Reshape the 1d array into size 2x5.\n",
    "print(x1.reshape(5,-1))\n",
    "\n",
    "## when you want numpy to estimate the other dimension\n",
    "# print(x1.reshape(2,-1))\n",
    "# print(x1.reshape(-1,5))"
   ]
  },
  {
   "cell_type": "markdown",
   "metadata": {
    "slideshow": {
     "slide_type": "slide"
    }
   },
   "source": [
    "## Concatenate/Split\n",
    "\n",
    "Concatenate means joining, and Numpy's *.concatenate()* function is used to join two or more arrays of the same shape along a specified axis. Numpy's *.vstack()* (*.hstack()*) can be used for row wise (column wise) joining. Numpy's split/vsplit/hsplit methods are for breaking/splitting the array, opposite to the concatenation. \n",
    "\n",
    "For example, see the code in the following cells:"
   ]
  },
  {
   "cell_type": "code",
   "execution_count": 73,
   "metadata": {
    "slideshow": {
     "slide_type": "slide"
    }
   },
   "outputs": [
    {
     "name": "stdout",
     "output_type": "stream",
     "text": [
      "[1 2 3 3 2 1 9 9 9]\n"
     ]
    }
   ],
   "source": [
    "x = np.array([1,2,3])\n",
    "y = np.array([3,2,1])\n",
    "z = np.array([9,9,9])\n",
    "\n",
    "print(np.concatenate((x,y,z)))   # to join all 1d arrays along axis 0"
   ]
  },
  {
   "cell_type": "code",
   "execution_count": 74,
   "metadata": {
    "slideshow": {
     "slide_type": "slide"
    }
   },
   "outputs": [
    {
     "name": "stdout",
     "output_type": "stream",
     "text": [
      "[[1 2 3]\n",
      " [3 2 1]\n",
      " [9 9 9]]\n"
     ]
    }
   ],
   "source": [
    "x = np.array([1,2,3])\n",
    "y = np.array([3,2,1])\n",
    "z = np.array([9,9,9])\n",
    "\n",
    "print(np.vstack((x,y,z)))  # to vertically stack all 1d arrays "
   ]
  },
  {
   "cell_type": "code",
   "execution_count": 75,
   "metadata": {
    "slideshow": {
     "slide_type": "slide"
    }
   },
   "outputs": [
    {
     "data": {
      "text/plain": [
       "array([[1, 2, 3],\n",
       "       [9, 8, 7],\n",
       "       [6, 5, 4]])"
      ]
     },
     "execution_count": 75,
     "metadata": {},
     "output_type": "execute_result"
    }
   ],
   "source": [
    "x = np.array( [1,2,3])\n",
    "y = np.array([[9,8,7],\n",
    "              [6,5,4]])\n",
    "\n",
    "np.vstack([x,y])  # vertically stack the arrays"
   ]
  },
  {
   "cell_type": "code",
   "execution_count": 76,
   "metadata": {
    "slideshow": {
     "slide_type": "slide"
    }
   },
   "outputs": [
    {
     "data": {
      "text/plain": [
       "array([[99,  9,  8,  7],\n",
       "       [99,  6,  5,  4]])"
      ]
     },
     "execution_count": 76,
     "metadata": {},
     "output_type": "execute_result"
    }
   ],
   "source": [
    "y = np.array([[9,8,7],\n",
    "              [6,5,4]])\n",
    "\n",
    "z = np.array([[99],\n",
    "              [99]])\n",
    "\n",
    "np.hstack([z,y])  # horizontally stack the arrays"
   ]
  },
  {
   "cell_type": "code",
   "execution_count": 77,
   "metadata": {
    "slideshow": {
     "slide_type": "slide"
    }
   },
   "outputs": [
    {
     "name": "stdout",
     "output_type": "stream",
     "text": [
      "[1, 2, 3, 99, 99, 3, 2, 1]\n",
      "[1 2 3] [99 99] [3 2 1]\n"
     ]
    }
   ],
   "source": [
    "# An example to split array into three sub-arrays using the given break points\n",
    "\n",
    "x = [1,2,3,99,99,3,2,1]\n",
    "print(x)\n",
    "\n",
    "x1, x2, x3 = np.split(x, [3,5])\n",
    "print(x1, x2, x3)"
   ]
  },
  {
   "cell_type": "code",
   "execution_count": 78,
   "metadata": {
    "slideshow": {
     "slide_type": "slide"
    }
   },
   "outputs": [
    {
     "name": "stdout",
     "output_type": "stream",
     "text": [
      "[[ 1  2  3 99]\n",
      " [99  3  2  1]]\n",
      "----------------\n",
      "[[ 1  2  3 99]] [[99  3  2  1]]\n",
      "----------------\n",
      "[[ 1  2]\n",
      " [99  3]] [[ 3 99]\n",
      " [ 2  1]]\n"
     ]
    }
   ],
   "source": [
    "# An example to split 2d-array into three sub-arrays using the given break points\n",
    "\n",
    "x = np.array([[1,2,3,99],[99,3,2,1]])\n",
    "print(x)\n",
    "print('-'*16)\n",
    "\n",
    "#  Split along the rows\n",
    "x1, x2 = np.split(x, 2, axis=0)\n",
    "print(x1, x2)\n",
    "print('-'*16)\n",
    "\n",
    "#  Split along the columns\n",
    "x1, x2 = np.split(x, 2, axis=1)\n",
    "print(x1, x2)"
   ]
  },
  {
   "cell_type": "markdown",
   "metadata": {
    "slideshow": {
     "slide_type": "slide"
    }
   },
   "source": [
    "## Vectorized Operations\n",
    "\n",
    "Vectorized operations are perhaps the most crucial factor to the wide usage of Numpy library. Vectorized operations simply put are those **operations that can be done on arrays without using loops**. \n",
    "\n",
    "For example, do the following:\n",
    "1. Create a random id array, and add, subtract,multiply and divide all the elements with 5.\n",
    "2. Take the square of all elements.\n",
    "3. Find remainder w.r.t 2 for all elements.\n",
    "4. Transform the array as: $-(\\frac{x}{2}+1)^2$, where $x$ is the random 1d array."
   ]
  },
  {
   "cell_type": "code",
   "execution_count": 79,
   "metadata": {
    "slideshow": {
     "slide_type": "slide"
    }
   },
   "outputs": [
    {
     "name": "stdout",
     "output_type": "stream",
     "text": [
      "x = [5 0 3 3 7 9 3 5 2 4]\n",
      "x + 5 = [10  5  8  8 12 14  8 10  7  9]\n",
      "x - 5 = [ 0 -5 -2 -2  2  4 -2  0 -3 -1]\n",
      "x * 5 = [25  0 15 15 35 45 15 25 10 20]\n",
      "x / 5 = [1.  0.  0.6 0.6 1.4 1.8 0.6 1.  0.4 0.8]\n",
      "x // 5 = [1 0 0 0 1 1 0 1 0 0]\n"
     ]
    }
   ],
   "source": [
    "# 1. Create a random id array, and add, subtract,multiply and divide all the elements with 5.\n",
    "\n",
    "np.random.seed(0) # seed for reproducibility\n",
    "x = np.random.randint(10,size=10) # One-dimensional array\n",
    "print(f\"x = {x}\")\n",
    "\n",
    "print(f\"x + 5 = {x + 5}\") # adding 5 to each element\n",
    "print(f\"x - 5 = {x - 5}\") # subtracting 5 to each element\n",
    "print(f\"x * 5 = {x * 5}\") # multiply each element by 5\n",
    "print(f\"x / 5 = {x / 5}\") # divide each element by 5 \n",
    "print(f\"x // 5 = {x // 5}\") # floor division each element by 5 "
   ]
  },
  {
   "cell_type": "code",
   "execution_count": 80,
   "metadata": {
    "slideshow": {
     "slide_type": "slide"
    }
   },
   "outputs": [
    {
     "name": "stdout",
     "output_type": "stream",
     "text": [
      "x ** 2 =  [25  0  9  9 49 81  9 25  4 16]\n",
      "x % 2 =  [1 0 1 1 1 1 1 1 0 0]\n"
     ]
    }
   ],
   "source": [
    "# 2. Take the square of all elements.\n",
    "# 3. Find remainder w.r.t 2 for all elements.\n",
    "print(f\"x ** 2 =  {x ** 2}\")\n",
    "print(f\"x % 2 =  {x % 2}\")"
   ]
  },
  {
   "cell_type": "code",
   "execution_count": 81,
   "metadata": {
    "scrolled": true,
    "slideshow": {
     "slide_type": "slide"
    }
   },
   "outputs": [
    {
     "name": "stdout",
     "output_type": "stream",
     "text": [
      "Given array      : [5 0 3 3 7 9 3 5 2 4]\n",
      "Transformed array: [-12.25  -1.    -6.25  -6.25 -20.25 -30.25  -6.25 -12.25  -4.    -9.  ]\n"
     ]
    }
   ],
   "source": [
    "# 4. Transform the array as: $-(\\frac{x}{2}+1)^2$, where $x$ is the random 1d array.\n",
    "newArray=-(0.5*x+1) ** 2\n",
    "\n",
    "print(f\"Given array      : {x}\")\n",
    "print(f\"Transformed array: {newArray}\")"
   ]
  },
  {
   "cell_type": "markdown",
   "metadata": {
    "slideshow": {
     "slide_type": "slide"
    }
   },
   "source": [
    "## Ufuncs\n",
    "\n",
    "A universal function (or ufunc for short) is a **vectorized** wrapper for a function that takes a fixed number of specific inputs and produces a fixed number of specific outputs. \n",
    "\n",
    "For example, see the following cell:"
   ]
  },
  {
   "cell_type": "code",
   "execution_count": 82,
   "metadata": {
    "slideshow": {
     "slide_type": "slide"
    }
   },
   "outputs": [
    {
     "name": "stdout",
     "output_type": "stream",
     "text": [
      "[-2 -1  0  1  2]\n",
      "----------\n",
      "[2 1 0 1 2]\n",
      "[1.41421356 1.         0.         1.         1.41421356]\n",
      "-2\n",
      "2\n",
      "0\n"
     ]
    }
   ],
   "source": [
    "x = np.array([-2,-1,0,1,2])\n",
    "\n",
    "print(x) # the original array\n",
    "\n",
    "print('-'*10)\n",
    "print(np.abs(x))  # convert all elements to +ve numbers\n",
    "print(np.sqrt(np.abs(x)))  # get square-roots of all abs(elements)\n",
    "print(np.min(x))  # get the min value\n",
    "print(np.max(x))  # get the max value\n",
    "print(np.sum(x))  # get the sum of all value"
   ]
  },
  {
   "cell_type": "markdown",
   "metadata": {
    "slideshow": {
     "slide_type": "slide"
    }
   },
   "source": [
    "## Broadcasting\n",
    "\n",
    "Vectorization involving multiple arrays can be done. Vectorization follows **broadcasting** rules. The key broadcasting rule is: **In order to broadcast, the size of the trailing axes for both arrays in an operation must either be the same size or one of them must be one**. In rough sense, what it means is:\n",
    "1. If two arrays of same dimensions have the same shape, then  corresponding elements can be broadcasted.\n",
    "2. If the arrays do not have the same dimensions, prepend the shape of the lower dimension array with 1s until both arrays have the same dimensions.\n",
    "3. In any dimension where one array had size 1 and the other array had size greater than 1, the first array behaves as if it were copied along that dimension.\n",
    "\n",
    "For example, see the following cells:"
   ]
  },
  {
   "cell_type": "code",
   "execution_count": 83,
   "metadata": {
    "slideshow": {
     "slide_type": "slide"
    }
   },
   "outputs": [
    {
     "name": "stdout",
     "output_type": "stream",
     "text": [
      "The dimensions for the arrays are: (3,) & (3,).\n",
      "\n",
      "\n",
      "  array 1: [0 1 2]\n",
      "  array 2: [5 5 3]\n",
      "--------------------\n",
      "array sum: [5 6 5]\n",
      "array dot: [0 5 6]\n"
     ]
    }
   ],
   "source": [
    "# 1. Add/multiply corresponding elements of two similar sized 1d arrays.\n",
    "x = np.array([0,1,2])\n",
    "y = np.array([5,5,3])\n",
    "\n",
    "print(f\"The dimensions for the arrays are: {x.shape} & {y.shape}.\\n\\n\")\n",
    "\n",
    "print(f'  array 1: {x}')\n",
    "print(f'  array 2: {y}')\n",
    "print('-'*20)\n",
    "print(f'array sum: {x+y}')\n",
    "print(f'array dot: {x*y}')\n",
    "\n",
    "## list1 + list2, where list1 and list2 are Python 1d lists results in concatenation!\n",
    "## list1 * list2, where list1 and list2 are Python 1d lists results in error!"
   ]
  },
  {
   "cell_type": "code",
   "execution_count": 84,
   "metadata": {
    "slideshow": {
     "slide_type": "slide"
    }
   },
   "outputs": [
    {
     "name": "stdout",
     "output_type": "stream",
     "text": [
      "The dimensions for the arrays are: (2, 3) & (3,).\n",
      "\n",
      "\n",
      "  Matrix 1:\n",
      " [[1 1 1]\n",
      " [1 1 1]]\n",
      "   Array 1:\n",
      " [0 1 2]\n",
      "----------\n",
      "   The sum:\n",
      " [[1 2 3]\n",
      " [1 2 3]]\n",
      "   The dot:\n",
      " [[0 1 2]\n",
      " [0 1 2]]\n"
     ]
    }
   ],
   "source": [
    "# 2. Add/multiply corresponding elements of two different sized arrays. \n",
    "M = np.ones((2,3), dtype='int')\n",
    "a = np.arange(3,dtype='int')\n",
    "print(f\"The dimensions for the arrays are: {M.shape} & {a.shape}.\\n\\n\")\n",
    "\n",
    "print(f'  Matrix 1:\\n {M}')\n",
    "print(f'   Array 1:\\n {a}')\n",
    "print('-'*10)\n",
    "print(f'   The sum:\\n {M+a}')\n",
    "print(f'   The dot:\\n {M*a}')"
   ]
  },
  {
   "cell_type": "markdown",
   "metadata": {
    "slideshow": {
     "slide_type": "slide"
    }
   },
   "source": [
    "## Masking \n",
    "\n",
    "Masked array is an **array of booleans** that determines for each element of the associated array whether the value is valid or not. The masked arrays are obtained using different conditions. Numpy array comparison are vectorized too.\n",
    "\n",
    "For example, see the following cells:"
   ]
  },
  {
   "cell_type": "code",
   "execution_count": 85,
   "metadata": {
    "slideshow": {
     "slide_type": "slide"
    }
   },
   "outputs": [
    {
     "name": "stdout",
     "output_type": "stream",
     "text": [
      "[ True  True False False False False]\n",
      "[False False False  True  True  True]\n",
      "[ True  True  True False False False]\n",
      "[False False  True  True  True  True]\n",
      "[ True  True False  True  True  True]\n",
      "[False False  True False False False]\n"
     ]
    }
   ],
   "source": [
    "x = np.array([1,2,3,4,5,6])\n",
    "\n",
    "print(x<3)  # less than\n",
    "print(x>3)  # greater than\n",
    "print(x<=3) #less than or equal\n",
    "print(x>=3) #greater than or equal\n",
    "print(x!=3) #not equal\n",
    "print(x==3) #equal"
   ]
  },
  {
   "cell_type": "code",
   "execution_count": 86,
   "metadata": {
    "slideshow": {
     "slide_type": "slide"
    }
   },
   "outputs": [
    {
     "data": {
      "text/plain": [
       "array([1, 2])"
      ]
     },
     "execution_count": 86,
     "metadata": {},
     "output_type": "execute_result"
    }
   ],
   "source": [
    "mask=x<3  # masked array that shows which elements of x are strictly less than 3\n",
    "x[mask] "
   ]
  },
  {
   "cell_type": "code",
   "execution_count": 87,
   "metadata": {
    "slideshow": {
     "slide_type": "slide"
    }
   },
   "outputs": [
    {
     "data": {
      "text/plain": [
       "array([3, 4])"
      ]
     },
     "execution_count": 87,
     "metadata": {},
     "output_type": "execute_result"
    }
   ],
   "source": [
    "mask=(x > 2) & (x < 5)  # shows which elements of x are strictly between than 2 and 5\n",
    "x[mask]"
   ]
  },
  {
   "cell_type": "code",
   "execution_count": 88,
   "metadata": {
    "slideshow": {
     "slide_type": "slide"
    }
   },
   "outputs": [
    {
     "data": {
      "text/plain": [
       "array([1, 5, 6])"
      ]
     },
     "execution_count": 88,
     "metadata": {},
     "output_type": "execute_result"
    }
   ],
   "source": [
    "mask=(x < 2) | (x >= 5)  # shows which elements of x are not in between than 2 and 4\n",
    "x[mask]"
   ]
  },
  {
   "cell_type": "markdown",
   "metadata": {
    "slideshow": {
     "slide_type": "slide"
    }
   },
   "source": [
    "# References\n",
    "## Online:   \n",
    "Main ref. Materalis from ISE 291\n",
    "1. https://docs.python.org/3/ 📃\n",
    "2. https://numpy.org/ \n",
    "📃\n",
    "\n"
   ]
  },
  {
   "cell_type": "markdown",
   "metadata": {},
   "source": []
  }
 ],
 "metadata": {
  "celltoolbar": "Slideshow",
  "hide_input": false,
  "kernelspec": {
   "display_name": "Python 3",
   "language": "python",
   "name": "python3"
  },
  "language_info": {
   "codemirror_mode": {
    "name": "ipython",
    "version": 3
   },
   "file_extension": ".py",
   "mimetype": "text/x-python",
   "name": "python",
   "nbconvert_exporter": "python",
   "pygments_lexer": "ipython3",
   "version": "3.12.3"
  },
  "toc": {
   "base_numbering": 1,
   "nav_menu": {},
   "number_sections": true,
   "sideBar": true,
   "skip_h1_title": false,
   "title_cell": "Table of Contents",
   "title_sidebar": "Contents",
   "toc_cell": true,
   "toc_position": {
    "height": "492.233px",
    "left": "315px",
    "top": "110.283px",
    "width": "219px"
   },
   "toc_section_display": true,
   "toc_window_display": false
  },
  "varInspector": {
   "cols": {
    "lenName": 16,
    "lenType": 16,
    "lenVar": 40
   },
   "kernels_config": {
    "python": {
     "delete_cmd_postfix": "",
     "delete_cmd_prefix": "del ",
     "library": "var_list.py",
     "varRefreshCmd": "print(var_dic_list())"
    },
    "r": {
     "delete_cmd_postfix": ") ",
     "delete_cmd_prefix": "rm(",
     "library": "var_list.r",
     "varRefreshCmd": "cat(var_dic_list()) "
    }
   },
   "types_to_exclude": [
    "module",
    "function",
    "builtin_function_or_method",
    "instance",
    "_Feature"
   ],
   "window_display": false
  }
 },
 "nbformat": 4,
 "nbformat_minor": 2
}
